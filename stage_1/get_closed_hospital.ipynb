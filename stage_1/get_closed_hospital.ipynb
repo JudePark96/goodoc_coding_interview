{
 "cells": [
  {
   "cell_type": "code",
   "execution_count": 49,
   "metadata": {
    "collapsed": true
   },
   "outputs": [],
   "source": [
    "import csv\n",
    "import pandas as pd\n",
    "import numpy as np"
   ]
  },
  {
   "cell_type": "code",
   "execution_count": 56,
   "metadata": {
    "collapsed": false
   },
   "outputs": [],
   "source": [
    "with open('./hospital_info.csv', 'r') as f:\n",
    "    hospitals = list(csv.reader(f, delimiter=','))"
   ]
  },
  {
   "cell_type": "code",
   "execution_count": 59,
   "metadata": {
    "collapsed": false
   },
   "outputs": [
    {
     "data": {
      "text/plain": [
       "[['HOSPITAL_NAME',\n",
       "  'DISTANCE',\n",
       "  '2017-11-10',\n",
       "  '2017-11-11',\n",
       "  '2017-11-12',\n",
       "  '2017-11-13',\n",
       "  '2017-11-14',\n",
       "  '2017-11-15',\n",
       "  '2017-11-16',\n",
       "  '2017-11-17',\n",
       "  '2017-11-18',\n",
       "  '2017-11-19'],\n",
       " ['A', '70', 'X', 'X', 'O', 'X', 'X', 'X', 'X', 'O', 'X', 'O'],\n",
       " ['B', '70', 'O', 'O', 'O', 'X', 'X', 'O', 'O', 'X', 'X', 'X'],\n",
       " ['C', '80', 'X', 'O', 'X', 'X', 'X', 'X', 'O', 'X', 'O', 'O'],\n",
       " ['D', '14', 'X', 'X', 'O', 'O', 'X', 'O', 'X', 'O', 'X', 'X'],\n",
       " ['E', '13', 'O', 'O', 'X', 'O', 'X', 'X', 'O', 'X', 'X', 'X'],\n",
       " ['F', '33', 'X', 'X', 'X', 'X', 'O', 'X', 'X', 'O', 'O', 'X'],\n",
       " ['G', '56', 'O', 'X', 'X', 'O', 'O', 'X', 'X', 'O', 'X', 'O'],\n",
       " ['H', '70', 'X', 'O', 'X', 'X', 'X', 'O', 'X', 'O', 'O', 'O'],\n",
       " ['I', '48', 'X', 'X', 'X', 'X', 'O', 'X', 'X', 'X', 'O', 'O'],\n",
       " ['J', '94', 'X', 'X', 'O', 'O', 'X', 'X', 'O', 'X', 'X', 'X'],\n",
       " ['K', '32', 'X', 'X', 'X', 'X', 'X', 'O', 'X', 'X', 'X', 'O'],\n",
       " ['L', '98', 'O', 'X', 'X', 'X', 'X', 'O', 'X', 'O', 'X', 'X'],\n",
       " ['M', '22', 'X', 'O', 'X', 'O', 'O', 'X', 'X', 'O', 'X', 'X'],\n",
       " ['N', '93', 'X', 'X', 'O', 'O', 'O', 'X', 'X', 'X', 'X', 'X'],\n",
       " ['O', '87', 'O', 'X', 'X', 'X', 'X', 'X', 'O', 'O', 'X', 'X'],\n",
       " ['P', '98', 'X', 'X', 'O', 'X', 'X', 'O', 'X', 'O', 'X', 'X'],\n",
       " ['Q', '1', 'X', 'O', 'X', 'O', 'X', 'X', 'X', 'X', 'X', 'O'],\n",
       " ['R', '22', 'X', 'X', 'O', 'X', 'O', 'X', 'X', 'X', 'O', 'O'],\n",
       " ['S', '24', 'O', 'X', 'O', 'X', 'O', 'X', 'X', 'O', 'X', 'O'],\n",
       " ['T', '70', 'X', 'X', 'X', 'X', 'O', 'X', 'O', 'X', 'O', 'X'],\n",
       " ['U', '87', 'X', 'X', 'X', 'X', 'O', 'X', 'X', 'X', 'X', 'X'],\n",
       " ['V', '77', 'X', 'X', 'X', 'X', 'X', 'X', 'O', 'O', 'O', 'X'],\n",
       " ['W', '84', 'O', 'X', 'X', 'X', 'X', 'O', 'X', 'X', 'O', 'X'],\n",
       " ['X', '25', 'X', 'X', 'O', 'X', 'O', 'X', 'X', 'X', 'X', 'X'],\n",
       " ['Y', '21', 'O', 'X', 'X', 'X', 'O', 'O', 'O', 'X', 'O', 'X'],\n",
       " ['Z', '61', 'X', 'O', 'X', 'X', 'O', 'X', 'X', 'X', 'X', 'X']]"
      ]
     },
     "execution_count": 59,
     "metadata": {},
     "output_type": "execute_result"
    }
   ],
   "source": [
    "hospitals"
   ]
  },
  {
   "cell_type": "code",
   "execution_count": 60,
   "metadata": {
    "collapsed": false
   },
   "outputs": [],
   "source": [
    "# Header 를 따로 보관하고 지운다.\n",
    "hospital_header = hospitals[0]\n",
    "del hospitals[0]"
   ]
  },
  {
   "cell_type": "code",
   "execution_count": 62,
   "metadata": {
    "collapsed": false
   },
   "outputs": [],
   "source": [
    "closed_hospital_sorted = sorted(hospitals, key=lambda x: x[1])"
   ]
  },
  {
   "cell_type": "code",
   "execution_count": 63,
   "metadata": {
    "collapsed": false
   },
   "outputs": [
    {
     "data": {
      "text/plain": [
       "[['Q', '1', 'X', 'O', 'X', 'O', 'X', 'X', 'X', 'X', 'X', 'O'],\n",
       " ['E', '13', 'O', 'O', 'X', 'O', 'X', 'X', 'O', 'X', 'X', 'X'],\n",
       " ['D', '14', 'X', 'X', 'O', 'O', 'X', 'O', 'X', 'O', 'X', 'X'],\n",
       " ['Y', '21', 'O', 'X', 'X', 'X', 'O', 'O', 'O', 'X', 'O', 'X'],\n",
       " ['M', '22', 'X', 'O', 'X', 'O', 'O', 'X', 'X', 'O', 'X', 'X'],\n",
       " ['R', '22', 'X', 'X', 'O', 'X', 'O', 'X', 'X', 'X', 'O', 'O'],\n",
       " ['S', '24', 'O', 'X', 'O', 'X', 'O', 'X', 'X', 'O', 'X', 'O'],\n",
       " ['X', '25', 'X', 'X', 'O', 'X', 'O', 'X', 'X', 'X', 'X', 'X'],\n",
       " ['K', '32', 'X', 'X', 'X', 'X', 'X', 'O', 'X', 'X', 'X', 'O'],\n",
       " ['F', '33', 'X', 'X', 'X', 'X', 'O', 'X', 'X', 'O', 'O', 'X'],\n",
       " ['I', '48', 'X', 'X', 'X', 'X', 'O', 'X', 'X', 'X', 'O', 'O'],\n",
       " ['G', '56', 'O', 'X', 'X', 'O', 'O', 'X', 'X', 'O', 'X', 'O'],\n",
       " ['Z', '61', 'X', 'O', 'X', 'X', 'O', 'X', 'X', 'X', 'X', 'X'],\n",
       " ['A', '70', 'X', 'X', 'O', 'X', 'X', 'X', 'X', 'O', 'X', 'O'],\n",
       " ['B', '70', 'O', 'O', 'O', 'X', 'X', 'O', 'O', 'X', 'X', 'X'],\n",
       " ['H', '70', 'X', 'O', 'X', 'X', 'X', 'O', 'X', 'O', 'O', 'O'],\n",
       " ['T', '70', 'X', 'X', 'X', 'X', 'O', 'X', 'O', 'X', 'O', 'X'],\n",
       " ['V', '77', 'X', 'X', 'X', 'X', 'X', 'X', 'O', 'O', 'O', 'X'],\n",
       " ['C', '80', 'X', 'O', 'X', 'X', 'X', 'X', 'O', 'X', 'O', 'O'],\n",
       " ['W', '84', 'O', 'X', 'X', 'X', 'X', 'O', 'X', 'X', 'O', 'X'],\n",
       " ['O', '87', 'O', 'X', 'X', 'X', 'X', 'X', 'O', 'O', 'X', 'X'],\n",
       " ['U', '87', 'X', 'X', 'X', 'X', 'O', 'X', 'X', 'X', 'X', 'X'],\n",
       " ['N', '93', 'X', 'X', 'O', 'O', 'O', 'X', 'X', 'X', 'X', 'X'],\n",
       " ['J', '94', 'X', 'X', 'O', 'O', 'X', 'X', 'O', 'X', 'X', 'X'],\n",
       " ['L', '98', 'O', 'X', 'X', 'X', 'X', 'O', 'X', 'O', 'X', 'X'],\n",
       " ['P', '98', 'X', 'X', 'O', 'X', 'X', 'O', 'X', 'O', 'X', 'X']]"
      ]
     },
     "execution_count": 63,
     "metadata": {},
     "output_type": "execute_result"
    }
   ],
   "source": [
    "closed_hospital_sorted"
   ]
  },
  {
   "cell_type": "code",
   "execution_count": 71,
   "metadata": {
    "collapsed": false
   },
   "outputs": [
    {
     "name": "stdout",
     "output_type": "stream",
     "text": [
      "2017-11-11\n"
     ]
    }
   ],
   "source": [
    "date_input = str(input())"
   ]
  },
  {
   "cell_type": "code",
   "execution_count": 72,
   "metadata": {
    "collapsed": false
   },
   "outputs": [],
   "source": [
    "for i in range(len(hospital_header)):\n",
    "    if date_input == hospital_header[i]:\n",
    "        matched_date_index = i"
   ]
  },
  {
   "cell_type": "code",
   "execution_count": 73,
   "metadata": {
    "collapsed": false
   },
   "outputs": [
    {
     "name": "stdout",
     "output_type": "stream",
     "text": [
      "Q\n",
      "E\n",
      "M\n",
      "Z\n",
      "B\n",
      "H\n",
      "C\n"
     ]
    }
   ],
   "source": [
    "for i in closed_hospital_sorted:\n",
    "    if i[matched_date_index] == 'O':\n",
    "        print(i[0])"
   ]
  }
 ],
 "metadata": {
  "kernelspec": {
   "display_name": "Python 3",
   "language": "python",
   "name": "python3"
  },
  "language_info": {
   "codemirror_mode": {
    "name": "ipython",
    "version": 3
   },
   "file_extension": ".py",
   "mimetype": "text/x-python",
   "name": "python",
   "nbconvert_exporter": "python",
   "pygments_lexer": "ipython3",
   "version": "3.4.3"
  }
 },
 "nbformat": 4,
 "nbformat_minor": 0
}
